{
 "cells": [
  {
   "cell_type": "markdown",
   "id": "9cda30e6-d8c3-40d8-8fb3-1b1475020949",
   "metadata": {
    "tags": []
   },
   "source": [
    "# lab 14 part A"
   ]
  },
  {
   "cell_type": "code",
   "execution_count": 45,
   "id": "156f3c66-3212-4aec-87a7-4b042754a004",
   "metadata": {},
   "outputs": [],
   "source": [
    "import pandas as pd \n",
    "import matplotlib as plt\n",
    "import seaborn as sns"
   ]
  },
  {
   "cell_type": "code",
   "execution_count": 54,
   "id": "23cb1ba7-0205-47a3-82d0-5b6dcb77df56",
   "metadata": {},
   "outputs": [
    {
     "data": {
      "text/html": [
       "<div>\n",
       "<style scoped>\n",
       "    .dataframe tbody tr th:only-of-type {\n",
       "        vertical-align: middle;\n",
       "    }\n",
       "\n",
       "    .dataframe tbody tr th {\n",
       "        vertical-align: top;\n",
       "    }\n",
       "\n",
       "    .dataframe thead th {\n",
       "        text-align: right;\n",
       "    }\n",
       "</style>\n",
       "<table border=\"1\" class=\"dataframe\">\n",
       "  <thead>\n",
       "    <tr style=\"text-align: right;\">\n",
       "      <th></th>\n",
       "      <th>Day of Year</th>\n",
       "      <th>Year</th>\n",
       "      <th>Month</th>\n",
       "      <th>Day</th>\n",
       "      <th>First Hour of Period</th>\n",
       "      <th>Is Daylight</th>\n",
       "      <th>Distance to Solar Noon</th>\n",
       "      <th>Average Temperature (Day)</th>\n",
       "      <th>Average Wind Direction (Day)</th>\n",
       "      <th>Average Wind Speed (Day)</th>\n",
       "      <th>Sky Cover</th>\n",
       "      <th>Visibility</th>\n",
       "      <th>Relative Humidity</th>\n",
       "      <th>Average Wind Speed (Period)</th>\n",
       "      <th>Average Barometric Pressure (Period)</th>\n",
       "      <th>Power Generated</th>\n",
       "    </tr>\n",
       "  </thead>\n",
       "  <tbody>\n",
       "    <tr>\n",
       "      <th>2915</th>\n",
       "      <td>243</td>\n",
       "      <td>2009</td>\n",
       "      <td>8</td>\n",
       "      <td>31</td>\n",
       "      <td>10</td>\n",
       "      <td>True</td>\n",
       "      <td>0.166453</td>\n",
       "      <td>63</td>\n",
       "      <td>27</td>\n",
       "      <td>13.9</td>\n",
       "      <td>4</td>\n",
       "      <td>10.0</td>\n",
       "      <td>75</td>\n",
       "      <td>10.0</td>\n",
       "      <td>29.93</td>\n",
       "      <td>6995</td>\n",
       "    </tr>\n",
       "    <tr>\n",
       "      <th>2916</th>\n",
       "      <td>243</td>\n",
       "      <td>2009</td>\n",
       "      <td>8</td>\n",
       "      <td>31</td>\n",
       "      <td>13</td>\n",
       "      <td>True</td>\n",
       "      <td>0.064020</td>\n",
       "      <td>63</td>\n",
       "      <td>27</td>\n",
       "      <td>13.9</td>\n",
       "      <td>1</td>\n",
       "      <td>10.0</td>\n",
       "      <td>66</td>\n",
       "      <td>15.0</td>\n",
       "      <td>29.91</td>\n",
       "      <td>29490</td>\n",
       "    </tr>\n",
       "    <tr>\n",
       "      <th>2917</th>\n",
       "      <td>243</td>\n",
       "      <td>2009</td>\n",
       "      <td>8</td>\n",
       "      <td>31</td>\n",
       "      <td>16</td>\n",
       "      <td>True</td>\n",
       "      <td>0.294494</td>\n",
       "      <td>63</td>\n",
       "      <td>27</td>\n",
       "      <td>13.9</td>\n",
       "      <td>2</td>\n",
       "      <td>10.0</td>\n",
       "      <td>68</td>\n",
       "      <td>21.0</td>\n",
       "      <td>29.88</td>\n",
       "      <td>17257</td>\n",
       "    </tr>\n",
       "    <tr>\n",
       "      <th>2918</th>\n",
       "      <td>243</td>\n",
       "      <td>2009</td>\n",
       "      <td>8</td>\n",
       "      <td>31</td>\n",
       "      <td>19</td>\n",
       "      <td>True</td>\n",
       "      <td>0.524968</td>\n",
       "      <td>63</td>\n",
       "      <td>27</td>\n",
       "      <td>13.9</td>\n",
       "      <td>2</td>\n",
       "      <td>10.0</td>\n",
       "      <td>81</td>\n",
       "      <td>17.0</td>\n",
       "      <td>29.87</td>\n",
       "      <td>677</td>\n",
       "    </tr>\n",
       "    <tr>\n",
       "      <th>2919</th>\n",
       "      <td>243</td>\n",
       "      <td>2009</td>\n",
       "      <td>8</td>\n",
       "      <td>31</td>\n",
       "      <td>22</td>\n",
       "      <td>False</td>\n",
       "      <td>0.755442</td>\n",
       "      <td>63</td>\n",
       "      <td>27</td>\n",
       "      <td>13.9</td>\n",
       "      <td>1</td>\n",
       "      <td>10.0</td>\n",
       "      <td>81</td>\n",
       "      <td>11.0</td>\n",
       "      <td>29.90</td>\n",
       "      <td>0</td>\n",
       "    </tr>\n",
       "  </tbody>\n",
       "</table>\n",
       "</div>"
      ],
      "text/plain": [
       "      Day of Year  Year  Month  Day  First Hour of Period  Is Daylight  \\\n",
       "2915          243  2009      8   31                    10         True   \n",
       "2916          243  2009      8   31                    13         True   \n",
       "2917          243  2009      8   31                    16         True   \n",
       "2918          243  2009      8   31                    19         True   \n",
       "2919          243  2009      8   31                    22        False   \n",
       "\n",
       "      Distance to Solar Noon  Average Temperature (Day)  \\\n",
       "2915                0.166453                         63   \n",
       "2916                0.064020                         63   \n",
       "2917                0.294494                         63   \n",
       "2918                0.524968                         63   \n",
       "2919                0.755442                         63   \n",
       "\n",
       "      Average Wind Direction (Day)  Average Wind Speed (Day)  Sky Cover  \\\n",
       "2915                            27                      13.9          4   \n",
       "2916                            27                      13.9          1   \n",
       "2917                            27                      13.9          2   \n",
       "2918                            27                      13.9          2   \n",
       "2919                            27                      13.9          1   \n",
       "\n",
       "      Visibility  Relative Humidity  Average Wind Speed (Period)  \\\n",
       "2915        10.0                 75                         10.0   \n",
       "2916        10.0                 66                         15.0   \n",
       "2917        10.0                 68                         21.0   \n",
       "2918        10.0                 81                         17.0   \n",
       "2919        10.0                 81                         11.0   \n",
       "\n",
       "      Average Barometric Pressure (Period)  Power Generated  \n",
       "2915                                 29.93             6995  \n",
       "2916                                 29.91            29490  \n",
       "2917                                 29.88            17257  \n",
       "2918                                 29.87              677  \n",
       "2919                                 29.90                0  "
      ]
     },
     "execution_count": 54,
     "metadata": {},
     "output_type": "execute_result"
    }
   ],
   "source": [
    "df = pd.read_csv('./BigML_Dataset_5f50a4cc0d052e40e6000034.csv')\n",
    "df.tail(5)"
   ]
  },
  {
   "cell_type": "markdown",
   "id": "1dd9dbb9-b5f8-4cc8-b217-c0815eedcc15",
   "metadata": {},
   "source": [
    "## The monthly Temp avg"
   ]
  },
  {
   "cell_type": "code",
   "execution_count": 42,
   "id": "1b288c02-aeaf-4db0-9500-f76788e1738c",
   "metadata": {},
   "outputs": [
    {
     "data": {
      "text/html": [
       "<div>\n",
       "<style scoped>\n",
       "    .dataframe tbody tr th:only-of-type {\n",
       "        vertical-align: middle;\n",
       "    }\n",
       "\n",
       "    .dataframe tbody tr th {\n",
       "        vertical-align: top;\n",
       "    }\n",
       "\n",
       "    .dataframe thead th {\n",
       "        text-align: right;\n",
       "    }\n",
       "</style>\n",
       "<table border=\"1\" class=\"dataframe\">\n",
       "  <thead>\n",
       "    <tr style=\"text-align: right;\">\n",
       "      <th></th>\n",
       "      <th>Month</th>\n",
       "      <th>Average Temperature (Day)</th>\n",
       "    </tr>\n",
       "  </thead>\n",
       "  <tbody>\n",
       "    <tr>\n",
       "      <th>0</th>\n",
       "      <td>1</td>\n",
       "      <td>51.483871</td>\n",
       "    </tr>\n",
       "    <tr>\n",
       "      <th>1</th>\n",
       "      <td>2</td>\n",
       "      <td>52.357143</td>\n",
       "    </tr>\n",
       "    <tr>\n",
       "      <th>2</th>\n",
       "      <td>3</td>\n",
       "      <td>54.032258</td>\n",
       "    </tr>\n",
       "    <tr>\n",
       "      <th>3</th>\n",
       "      <td>4</td>\n",
       "      <td>56.533333</td>\n",
       "    </tr>\n",
       "    <tr>\n",
       "      <th>4</th>\n",
       "      <td>5</td>\n",
       "      <td>59.612903</td>\n",
       "    </tr>\n",
       "  </tbody>\n",
       "</table>\n",
       "</div>"
      ],
      "text/plain": [
       "   Month  Average Temperature (Day)\n",
       "0      1                  51.483871\n",
       "1      2                  52.357143\n",
       "2      3                  54.032258\n",
       "3      4                  56.533333\n",
       "4      5                  59.612903"
      ]
     },
     "execution_count": 42,
     "metadata": {},
     "output_type": "execute_result"
    }
   ],
   "source": [
    "avg_temp_monthly = df.groupby(\"Month\",as_index = False).mean()\n",
    "avg_temp_monthly.head(5)\n",
    "monthly = df[[\"Month\",\"Average Temperature (Day)\"]].groupby(\"Month\",as_index = False).mean()\n",
    "monthly.head(5)"
   ]
  },
  {
   "cell_type": "markdown",
   "id": "221ab2d1-e93c-4401-8d98-a1bfa4b1ce7d",
   "metadata": {},
   "source": [
    "## compare between the monthly avg generated power with yearly avg"
   ]
  },
  {
   "cell_type": "code",
   "execution_count": 44,
   "id": "4c9af1b4-99e1-4347-9481-129685be4d19",
   "metadata": {},
   "outputs": [
    {
     "data": {
      "text/html": [
       "<div>\n",
       "<style scoped>\n",
       "    .dataframe tbody tr th:only-of-type {\n",
       "        vertical-align: middle;\n",
       "    }\n",
       "\n",
       "    .dataframe tbody tr th {\n",
       "        vertical-align: top;\n",
       "    }\n",
       "\n",
       "    .dataframe thead th {\n",
       "        text-align: right;\n",
       "    }\n",
       "</style>\n",
       "<table border=\"1\" class=\"dataframe\">\n",
       "  <thead>\n",
       "    <tr style=\"text-align: right;\">\n",
       "      <th></th>\n",
       "      <th>Month</th>\n",
       "      <th>Power Generated</th>\n",
       "    </tr>\n",
       "  </thead>\n",
       "  <tbody>\n",
       "    <tr>\n",
       "      <th>0</th>\n",
       "      <td>1</td>\n",
       "      <td>4021.951613</td>\n",
       "    </tr>\n",
       "    <tr>\n",
       "      <th>1</th>\n",
       "      <td>2</td>\n",
       "      <td>4338.803571</td>\n",
       "    </tr>\n",
       "    <tr>\n",
       "      <th>2</th>\n",
       "      <td>3</td>\n",
       "      <td>7610.455645</td>\n",
       "    </tr>\n",
       "    <tr>\n",
       "      <th>3</th>\n",
       "      <td>4</td>\n",
       "      <td>9395.266667</td>\n",
       "    </tr>\n",
       "    <tr>\n",
       "      <th>4</th>\n",
       "      <td>5</td>\n",
       "      <td>8783.274194</td>\n",
       "    </tr>\n",
       "    <tr>\n",
       "      <th>5</th>\n",
       "      <td>6</td>\n",
       "      <td>9766.079167</td>\n",
       "    </tr>\n",
       "    <tr>\n",
       "      <th>6</th>\n",
       "      <td>7</td>\n",
       "      <td>9732.616935</td>\n",
       "    </tr>\n",
       "    <tr>\n",
       "      <th>7</th>\n",
       "      <td>8</td>\n",
       "      <td>9151.060484</td>\n",
       "    </tr>\n",
       "    <tr>\n",
       "      <th>8</th>\n",
       "      <td>9</td>\n",
       "      <td>7518.733333</td>\n",
       "    </tr>\n",
       "    <tr>\n",
       "      <th>9</th>\n",
       "      <td>10</td>\n",
       "      <td>5617.338710</td>\n",
       "    </tr>\n",
       "    <tr>\n",
       "      <th>10</th>\n",
       "      <td>11</td>\n",
       "      <td>4126.579167</td>\n",
       "    </tr>\n",
       "    <tr>\n",
       "      <th>11</th>\n",
       "      <td>12</td>\n",
       "      <td>3533.548387</td>\n",
       "    </tr>\n",
       "  </tbody>\n",
       "</table>\n",
       "</div>"
      ],
      "text/plain": [
       "    Month  Power Generated\n",
       "0       1      4021.951613\n",
       "1       2      4338.803571\n",
       "2       3      7610.455645\n",
       "3       4      9395.266667\n",
       "4       5      8783.274194\n",
       "5       6      9766.079167\n",
       "6       7      9732.616935\n",
       "7       8      9151.060484\n",
       "8       9      7518.733333\n",
       "9      10      5617.338710\n",
       "10     11      4126.579167\n",
       "11     12      3533.548387"
      ]
     },
     "execution_count": 44,
     "metadata": {},
     "output_type": "execute_result"
    }
   ],
   "source": [
    "hole_year_avg = df[[\"Power Generated\"]].mean()\n",
    "hole_year_avg\n",
    "monthly_power_avg = df[[\"Month\",\"Power Generated\"]].groupby(\"Month\",as_index = False).mean()\n",
    "monthly_power_avg"
   ]
  },
  {
   "cell_type": "markdown",
   "id": "9f16a749-9767-452a-80ee-b71afcd98c7c",
   "metadata": {},
   "source": [
    "# Plot the monthly generation power to year avg"
   ]
  },
  {
   "cell_type": "code",
   "execution_count": 33,
   "id": "35c3d6b6-f7ce-400c-bdd7-0927bf3dda8e",
   "metadata": {},
   "outputs": [],
   "source": [
    "sns.set()\n"
   ]
  },
  {
   "cell_type": "code",
   "execution_count": 36,
   "id": "0c966109-d441-4fe6-9f2a-c27a489076b1",
   "metadata": {},
   "outputs": [
    {
     "data": {
      "text/plain": [
       "<AxesSubplot:xlabel='Month', ylabel='Power Generated'>"
      ]
     },
     "execution_count": 36,
     "metadata": {},
     "output_type": "execute_result"
    },
    {
     "data": {
      "image/png": "[encoded data removed]",
      "text/plain": [
       "<Figure size 432x288 with 1 Axes>"
      ]
     },
     "metadata": {},
     "output_type": "display_data"
    }
   ],
   "source": [
    "sns.barplot(x='Month',y='Power Generated',data=monthly_power_avg)"
   ]
  },
  {
   "cell_type": "markdown",
   "id": "38631e7b-d704-4afe-a8a5-cd1998b7a303",
   "metadata": {},
   "source": [
    "## the max and min sky cover monthly"
   ]
  },
  {
   "cell_type": "code",
   "execution_count": null,
   "id": "c8cd71aa-885e-4604-b89a-5435a157432a",
   "metadata": {},
   "outputs": [],
   "source": [
    "monthly_Sky_Cover = df[[\"Month\",\"Sky Cover\"]].groupby(\"Month\",as_index = False).mean()\n",
    "monthly_Sky_Cover"
   ]
  },
  {
   "cell_type": "code",
   "execution_count": null,
   "id": "b7f0cdf1-ba6a-47d6-8f44-168bc2c9cd9a",
   "metadata": {},
   "outputs": [],
   "source": [
    "sns.barplot(x='Month',y='Sky Cover',data=monthly_Sky_Cover)"
   ]
  },
  {
   "cell_type": "code",
   "execution_count": null,
   "id": "f32950f0-6a44-457f-88c7-f67aeccab687",
   "metadata": {},
   "outputs": [],
   "source": [
    "sns.lmplot(x='Month',y='Sky Cover',data=monthly_Sky_Cover)"
   ]
  },
  {
   "cell_type": "code",
   "execution_count": null,
   "id": "1cf0b63e-d8e8-4f62-a0cc-4e0b8da0fa81",
   "metadata": {},
   "outputs": [],
   "source": [
    "sns.barplot(x='Month', y='Sky Cover', data=monthly_Sky_Cover)"
   ]
  },
  {
   "cell_type": "markdown",
   "id": "c6ddfded-0c52-4053-a8df-daa6e8842c99",
   "metadata": {},
   "source": [
    "## summery \n",
    "* the max monthly avg of the power generation occured in june and july\n",
    "* the min monthly avg of the power generation occured in Jan and Dec\n",
    "* the maximum sky covere monthly avg occured in feb\n",
    "* the minimum sky covere monthly avg occured in oct \n",
    "\n"
   ]
  },
  {
   "cell_type": "code",
   "execution_count": null,
   "id": "7143f1b6-ef0e-4d7c-9f58-ba55fc234138",
   "metadata": {},
   "outputs": [],
   "source": []
  },
  {
   "cell_type": "code",
   "execution_count": null,
   "id": "a3646ba9-0d16-4d17-bd33-564b3f24d37a",
   "metadata": {},
   "outputs": [],
   "source": []
  },
  {
   "cell_type": "code",
   "execution_count": null,
   "id": "77674427-f5aa-43ea-8c24-7ca32f0fff9f",
   "metadata": {},
   "outputs": [],
   "source": []
  },
  {
   "cell_type": "code",
   "execution_count": null,
   "id": "c1e1e368-110f-45d1-a261-5098cc2ba3e1",
   "metadata": {},
   "outputs": [],
   "source": []
  }
 ],
 "metadata": {
  "kernelspec": {
   "display_name": "Python 3",
   "language": "python",
   "name": "python3"
  },
  "language_info": {
   "codemirror_mode": {
    "name": "ipython",
    "version": 3
   },
   "file_extension": ".py",
   "mimetype": "text/x-python",
   "name": "python",
   "nbconvert_exporter": "python",
   "pygments_lexer": "ipython3",
   "version": "3.9.4"
  }
 },
 "nbformat": 4,
 "nbformat_minor": 5
}
